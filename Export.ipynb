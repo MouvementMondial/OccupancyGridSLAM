{
 "cells": [
  {
   "cell_type": "markdown",
   "metadata": {},
   "source": [
    "# Export von KITTI Rohdaten\n",
    "\n",
    "### Download\n",
    "\n",
    "Für das entwickelte SLAM Verfahren werden Punktwolken, eine Startposition sowie als Vergleich eine Ground Truth Trajektorie benötigt. Mit diesem Skript werden Datensätze aus Rohdaten der [KITTI Vision Benchmark Suite](http://www.cvlibs.net/) exportiert.\n",
    "\n",
    "[Hier](http://www.cvlibs.net/datasets/kitti/raw_data.php) können Messfahrten einzeln heruntergeladen werden. Nötig sind die synchronisierten *synced+rectified data* Daten sowie die Kalibrierung *calibration* der Sensoren. Die Daten und Kalibrierungen werden beispielsweise in diesen Pfad entpackt:\n",
    "\n",
    "*C:/KITTI/2011_09_26/*\n",
    "\n",
    "Sodass folgende Ordner und Dateien vorhanden sind:  \n",
    "*2011_09_26_drive_0001_sync*  \n",
    "*calib_cam_to_cam.txt*  \n",
    "*calib_imu_to_velo.txt*  \n",
    "*calib_velo_to_cam.txt*  \n",
    "\n",
    "Die für das SLAM erforderlichen Daten werden ebenfalls unter dem Pfad in diesem Ordner gespeichert:  \n",
    "*2011_09_26_drive_0001_export*"
   ]
  },
  {
   "cell_type": "markdown",
   "metadata": {},
   "source": [
    "### Angabe der Messfahrt und Laden der Daten\n",
    "\n",
    "Auswahl der Messfahrt:"
   ]
  },
  {
   "cell_type": "code",
   "execution_count": null,
   "metadata": {
    "collapsed": true
   },
   "outputs": [],
   "source": [
    "basedir = 'C:/KITTI'\n",
    "date = '2011_09_26'\n",
    "drive = '0013'"
   ]
  },
  {
   "cell_type": "markdown",
   "metadata": {},
   "source": [
    "Zum auslesen der KITTI-Daten wird die Bibliothek [pykitti](https://github.com/utiasSTARS/pykitti) genutzt."
   ]
  },
  {
   "cell_type": "code",
   "execution_count": null,
   "metadata": {
    "collapsed": false
   },
   "outputs": [],
   "source": [
    "import numpy as np\n",
    "import pykitti\n",
    "import utm\n",
    "import os\n",
    "\n",
    "pathSave = basedir+'/'+date+'/'+date+'_drive_'+drive+'_export/'\n",
    "if not os.path.exists(pathSave):\n",
    "    os.makedirs(pathSave)\n",
    "\n",
    "dataset = pykitti.raw(basedir,date,drive)"
   ]
  },
  {
   "cell_type": "markdown",
   "metadata": {
    "collapsed": true
   },
   "source": [
    "### Ausgabe Ground Truth Trajektorie\n",
    "Das Ursprung des Koordinatensystem des Positionierungssystems und damit der Trajektorie liegt wie in der Abbildung ersichtlich an einer anderen Position als der des Laserscanners. Als Position des Fahrzeugs wurde der Ursprung des Koordinatensystems des Laserscanners gewählt, daher muss die Trajektorie so transformiert werden, dass sie an der Position des Ursprung des Koordinatensystem des Laserscanners liegt.\n",
    "\n",
    "<img src=\"fig/KITTI_sensor.png\" alt=\"Aufbau Messfahrzeug\" style=\"width: 500px;\"/>\n",
    "\n",
    "Dafür wird die Transformationsmatrix aus der Kalibrierungsdatei *calib_imu_to_velo* geladen und die Translation genutzt:"
   ]
  },
  {
   "cell_type": "code",
   "execution_count": null,
   "metadata": {
    "collapsed": true
   },
   "outputs": [],
   "source": [
    "T = np.matrix(dataset.calib.T_velo_imu[0:2,3]).transpose()"
   ]
  },
  {
   "cell_type": "markdown",
   "metadata": {},
   "source": [
    "Für jede Position der Trajektorie des Positionierungssystem wird dieser Vektor um den Gierwinkel (yaw) des Fahrzeugs gedreht. Mit dem rotierten Verschiebungsvektor kann der Punkt der Trajektorie des Positionierungssystem an den Ursprung des Laserscanners transformiert werden.  "
   ]
  },
  {
   "cell_type": "code",
   "execution_count": null,
   "metadata": {
    "collapsed": false
   },
   "outputs": [],
   "source": [
    "# save ground truth trajectory here\n",
    "groundTruth = []\n",
    "\n",
    "PosSystem = dataset.oxts\n",
    "\n",
    "for _ in dataset.velo:\n",
    "    # get next pose of position system\n",
    "    pose = next(PosSystem)\n",
    "    \n",
    "    # get latitude and longitude from position system\n",
    "    latitude = pose.packet.lat\n",
    "    longitude = pose.packet.lon\n",
    "    \n",
    "    # calculate UTM coordinates from latitude and longitude\n",
    "    posUtm = utm.from_latlon(latitude,longitude)\n",
    "    posUtm = np.matrix([posUtm[0],posUtm[1]])\n",
    "    \n",
    "    # get yaw of position system and create 2D rotation matrix\n",
    "    yaw = pose.packet.yaw\n",
    "    R = np.matrix([[np.cos(yaw), -np.sin(yaw)],[np.sin(yaw),np.cos(yaw)]])\n",
    "    \n",
    "    # rotate translation vektor\n",
    "    T_rot = R*T\n",
    "    \n",
    "    # Calculate Ground Truth at the position of the velodyne LIDAR\n",
    "    posUtmTrans = posUtm-np.transpose(T_rot)\n",
    "    \n",
    "    # add position x y yaw to list\n",
    "    groundTruth.append(np.matrix([posUtmTrans[0,0], posUtmTrans[0,1], pose.packet.yaw]))\n",
    "    \n",
    "# save ground truth trajectory \n",
    "groundTruth = np.vstack(groundTruth)\n",
    "np.savetxt(pathSave+'groundTruth.txt',groundTruth,delimiter=',',fmt='%1.3f')\n",
    "\n",
    "print('Finished')"
   ]
  },
  {
   "cell_type": "markdown",
   "metadata": {},
   "source": [
    "### Ausgabe Initiale Position\n",
    "\n",
    "Die initiale Position ist gleich der ersten Position der Ground Truth Trajektorie. Um die Datenstruktur beizubehalten wenn keine Ground Truth Trajektorie vorhanden ist, wird die intiale Position in einer seperaten Datei gespeichert."
   ]
  },
  {
   "cell_type": "code",
   "execution_count": null,
   "metadata": {
    "collapsed": false
   },
   "outputs": [],
   "source": [
    "np.savetxt(pathSave+'firstPose.txt',groundTruth[0],delimiter=',',fmt='%1.3f')"
   ]
  },
  {
   "cell_type": "markdown",
   "metadata": {},
   "source": [
    "### Ausgabe Punktwolken\n",
    "Die Punktwolken werden wie sie auch in der KITTI-Datenstruktur vorliegen im Koordinatensystem des Velodyne-Laserscanners gespeichert. Für das SLAM sollten die Punktwolken im binären NumPy Formate gespeichert werden. Dadurch werden die Einlesezeiten gegenüber einer Speicherung als .txt deutlich reduziert. Die Punktwolken können zusätzlich als Textdatei ausgegeben werden um sie beispielsweise mit [CloudCompare](http://www.danielgm.net/cc/) zu betrachten."
   ]
  },
  {
   "cell_type": "code",
   "execution_count": null,
   "metadata": {
    "collapsed": true
   },
   "outputs": [],
   "source": [
    "printTxt = False"
   ]
  },
  {
   "cell_type": "code",
   "execution_count": null,
   "metadata": {
    "collapsed": false
   },
   "outputs": [],
   "source": [
    "ii = 0\n",
    "for scan in dataset.velo:\n",
    "    # get pointcloud (x y z intensity) and delete intensity\n",
    "    pointcloud = np.asarray(scan)\n",
    "    pointcloud = np.delete(pointcloud,3,1)\n",
    "    \n",
    "    # save pointcloud as binary\n",
    "    np.save(pathSave+'pointcloudNP_'+str(ii),pointcloud)\n",
    "    \n",
    "    # save pointcloud as comma seperated txt\n",
    "    if printTxt:\n",
    "        np.savetxt(pathSave+'pointcloud_'+str(ii)+'.txt',pointcloud,delimiter=',',fmt='%1.3f')\n",
    "    \n",
    "    # show update\n",
    "    if ii%100 == 0:\n",
    "        print('Process measurement: '+str(ii))\n",
    "    \n",
    "    ii = ii + 1\n",
    "print('Finished: '+str(ii)+' measurements')"
   ]
  }
 ],
 "metadata": {
  "kernelspec": {
   "display_name": "Python 3",
   "language": "python",
   "name": "python3"
  },
  "language_info": {
   "codemirror_mode": {
    "name": "ipython",
    "version": 3
   },
   "file_extension": ".py",
   "mimetype": "text/x-python",
   "name": "python",
   "nbconvert_exporter": "python",
   "pygments_lexer": "ipython3",
   "version": "3.5.1"
  }
 },
 "nbformat": 4,
 "nbformat_minor": 0
}
